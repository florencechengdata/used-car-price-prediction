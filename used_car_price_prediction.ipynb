{
 "cells": [
  {
   "cell_type": "markdown",
   "id": "2f59412b",
   "metadata": {},
   "source": [
    "<a id=\"0\"></a> <br>\n",
    "# Used Car Price Prediction\n",
    "\n",
    "__Dataset Source:__ https://www.kaggle.com/datasets/nehalbirla/vehicle-dataset-from-cardekho"
   ]
  },
  {
   "cell_type": "markdown",
   "id": "db3c3ef5",
   "metadata": {},
   "source": [
    "People buy used cars all around the world. The objective of this analysis is to develop a simple model to predict\n",
    "selling price of used cars. The selling price of cars is based on various factors and we\n",
    "analysed these explanatory variables to see the effect of these variables on the selling price of\n",
    "the cars.\n",
    "\n",
    "After the regression model is defined, we will also see if the model could be further improved by looking at the residual plot and comparing the actual results."
   ]
  },
  {
   "cell_type": "markdown",
   "id": "b93a6323",
   "metadata": {},
   "source": [
    "__Content:__\n",
    "1. [Global Environment](#11)    \n",
    "1. [Import Package](#12)\n",
    "1. [Read Data](#13) \n",
    "1. [Check if missing value exists](#14) \n",
    "1. [Data pre-processing](#15)    \n",
    "    1. [Variable selections](#151)\n",
    "    1. [Create new column \"Age\"](#152)\n",
    "    1. [Correlation Analysis](#153) \n",
    "    1. [Encode catagorical variables](#154)\n",
    "1. [Data Analysis](#16)   \n",
    "    1. [Boxplot graphs, Histograms and Q-Q plots](#161)\n",
    "    1. [Create new variable after analysis](#162)\n",
    "1. [Training a Linear Regression Model](#17) \n",
    "    1. [Select explanatory and response variables from the dataset](#171)\n",
    "    1. [Split into training and testing dataset](#172)\n",
    "    1. [Create and train the baseline model](#173)\n",
    "    1. [Model Evaluation](#174)    \n",
    "    1. [Joint plot and residual plot](#175)  \n",
    "1. [Improved model: Log transformation](#18)  \n",
    "    1. [Q-Q plots after log transformation](#181)\n",
    "    1. [Split into training and testing dataset using transformed variables](#182)\n",
    "    1. [Create and train the improved model](#183)\n",
    "    1. [Model Evaluation](#184)    \n",
    "    1. [Joint plot and residual plot](#185) \n",
    "1. [Conclusion and potential further improvements](#19)  "
   ]
  },
  {
   "cell_type": "markdown",
   "id": "f71e9fcc",
   "metadata": {},
   "source": [
    "<a id=\"11\"></a> <br>\n",
    "## 1. Global Environment"
   ]
  },
  {
   "cell_type": "code",
   "execution_count": 1,
   "id": "f17d89f6",
   "metadata": {},
   "outputs": [
    {
     "name": "stdout",
     "output_type": "stream",
     "text": [
      "Python 3.9.12\r\n"
     ]
    }
   ],
   "source": [
    "! python --version"
   ]
  },
  {
   "cell_type": "markdown",
   "id": "6ab411b1",
   "metadata": {},
   "source": [
    "<a id=\"12\"></a> <br>\n",
    "## 2. Import Package"
   ]
  },
  {
   "cell_type": "code",
   "execution_count": 40,
   "id": "4e4aea8f",
   "metadata": {},
   "outputs": [],
   "source": [
    "import pandas as pd \n",
    "import numpy as np\n",
    "import datetime\n",
    "from sklearn.preprocessing import LabelEncoder\n",
    "from sklearn.model_selection import train_test_split\n",
    "from sklearn.linear_model import LinearRegression\n",
    "from sklearn import metrics\n",
    "from sklearn.metrics import r2_score\n",
    "import seaborn as sns\n",
    "import matplotlib.pyplot as plt\n",
    "import scipy.stats as stats\n",
    "import warnings \n",
    "warnings.filterwarnings(\"ignore\")"
   ]
  },
  {
   "cell_type": "markdown",
   "id": "6f7fb79b",
   "metadata": {},
   "source": [
    "<a id=\"13\"></a> <br>\n",
    "## 3. Read Data"
   ]
  },
  {
   "cell_type": "code",
   "execution_count": 41,
   "id": "b630cf83",
   "metadata": {},
   "outputs": [
    {
     "data": {
      "text/html": [
       "<div>\n",
       "<style scoped>\n",
       "    .dataframe tbody tr th:only-of-type {\n",
       "        vertical-align: middle;\n",
       "    }\n",
       "\n",
       "    .dataframe tbody tr th {\n",
       "        vertical-align: top;\n",
       "    }\n",
       "\n",
       "    .dataframe thead th {\n",
       "        text-align: right;\n",
       "    }\n",
       "</style>\n",
       "<table border=\"1\" class=\"dataframe\">\n",
       "  <thead>\n",
       "    <tr style=\"text-align: right;\">\n",
       "      <th></th>\n",
       "      <th>name</th>\n",
       "      <th>year</th>\n",
       "      <th>selling_price</th>\n",
       "      <th>km_driven</th>\n",
       "      <th>fuel</th>\n",
       "      <th>seller_type</th>\n",
       "      <th>transmission</th>\n",
       "      <th>owner</th>\n",
       "    </tr>\n",
       "  </thead>\n",
       "  <tbody>\n",
       "    <tr>\n",
       "      <th>0</th>\n",
       "      <td>Maruti 800 AC</td>\n",
       "      <td>2007</td>\n",
       "      <td>60000</td>\n",
       "      <td>70000</td>\n",
       "      <td>Petrol</td>\n",
       "      <td>Individual</td>\n",
       "      <td>Manual</td>\n",
       "      <td>First Owner</td>\n",
       "    </tr>\n",
       "    <tr>\n",
       "      <th>1</th>\n",
       "      <td>Maruti Wagon R LXI Minor</td>\n",
       "      <td>2007</td>\n",
       "      <td>135000</td>\n",
       "      <td>50000</td>\n",
       "      <td>Petrol</td>\n",
       "      <td>Individual</td>\n",
       "      <td>Manual</td>\n",
       "      <td>First Owner</td>\n",
       "    </tr>\n",
       "    <tr>\n",
       "      <th>2</th>\n",
       "      <td>Hyundai Verna 1.6 SX</td>\n",
       "      <td>2012</td>\n",
       "      <td>600000</td>\n",
       "      <td>100000</td>\n",
       "      <td>Diesel</td>\n",
       "      <td>Individual</td>\n",
       "      <td>Manual</td>\n",
       "      <td>First Owner</td>\n",
       "    </tr>\n",
       "    <tr>\n",
       "      <th>3</th>\n",
       "      <td>Datsun RediGO T Option</td>\n",
       "      <td>2017</td>\n",
       "      <td>250000</td>\n",
       "      <td>46000</td>\n",
       "      <td>Petrol</td>\n",
       "      <td>Individual</td>\n",
       "      <td>Manual</td>\n",
       "      <td>First Owner</td>\n",
       "    </tr>\n",
       "    <tr>\n",
       "      <th>4</th>\n",
       "      <td>Honda Amaze VX i-DTEC</td>\n",
       "      <td>2014</td>\n",
       "      <td>450000</td>\n",
       "      <td>141000</td>\n",
       "      <td>Diesel</td>\n",
       "      <td>Individual</td>\n",
       "      <td>Manual</td>\n",
       "      <td>Second Owner</td>\n",
       "    </tr>\n",
       "  </tbody>\n",
       "</table>\n",
       "</div>"
      ],
      "text/plain": [
       "                       name  year  selling_price  km_driven    fuel  \\\n",
       "0             Maruti 800 AC  2007          60000      70000  Petrol   \n",
       "1  Maruti Wagon R LXI Minor  2007         135000      50000  Petrol   \n",
       "2      Hyundai Verna 1.6 SX  2012         600000     100000  Diesel   \n",
       "3    Datsun RediGO T Option  2017         250000      46000  Petrol   \n",
       "4     Honda Amaze VX i-DTEC  2014         450000     141000  Diesel   \n",
       "\n",
       "  seller_type transmission         owner  \n",
       "0  Individual       Manual   First Owner  \n",
       "1  Individual       Manual   First Owner  \n",
       "2  Individual       Manual   First Owner  \n",
       "3  Individual       Manual   First Owner  \n",
       "4  Individual       Manual  Second Owner  "
      ]
     },
     "execution_count": 41,
     "metadata": {},
     "output_type": "execute_result"
    }
   ],
   "source": [
    "df = pd.read_csv(\"CAR DETAILS FROM CAR DEKHO.csv\")\n",
    "df.head()"
   ]
  },
  {
   "cell_type": "markdown",
   "id": "d15fd514",
   "metadata": {},
   "source": [
    "<a id=\"14\"></a> <br>\n",
    "## 4. Check if missing value exists"
   ]
  },
  {
   "cell_type": "code",
   "execution_count": 42,
   "id": "b4e63afd",
   "metadata": {},
   "outputs": [
    {
     "data": {
      "text/plain": [
       "4340"
      ]
     },
     "execution_count": 42,
     "metadata": {},
     "output_type": "execute_result"
    }
   ],
   "source": [
    "len(df)"
   ]
  },
  {
   "cell_type": "code",
   "execution_count": 43,
   "id": "c56e8397",
   "metadata": {},
   "outputs": [
    {
     "data": {
      "text/plain": [
       "name             0\n",
       "year             0\n",
       "selling_price    0\n",
       "km_driven        0\n",
       "fuel             0\n",
       "seller_type      0\n",
       "transmission     0\n",
       "owner            0\n",
       "dtype: int64"
      ]
     },
     "execution_count": 43,
     "metadata": {},
     "output_type": "execute_result"
    }
   ],
   "source": [
    "df.isnull().sum()"
   ]
  },
  {
   "cell_type": "markdown",
   "id": "8bba5263",
   "metadata": {},
   "source": [
    "No missing value found in this dataset."
   ]
  },
  {
   "cell_type": "markdown",
   "id": "f0082f63",
   "metadata": {},
   "source": [
    "<a id=\"15\"></a> <br>\n",
    "## 5. Data pre-processing"
   ]
  },
  {
   "cell_type": "markdown",
   "id": "c9146bd4",
   "metadata": {},
   "source": [
    "<a id=\"151\"></a> <br>\n",
    "### A. Variable selections"
   ]
  },
  {
   "cell_type": "markdown",
   "id": "6c3bfa45",
   "metadata": {},
   "source": [
    "Except the name of car, it's suggested to use all catagorical and numerical variables in the precition model."
   ]
  },
  {
   "cell_type": "markdown",
   "id": "64d2c2b2",
   "metadata": {},
   "source": [
    "<a id=\"152\"></a> <br>\n",
    "### B. Create new column \"Age\""
   ]
  },
  {
   "cell_type": "markdown",
   "id": "7415f91d",
   "metadata": {},
   "source": [
    "Age was the new column that was added to the dataset. This was done in order to study the\n",
    "effect age of car has on selling price of the car. Age is calculated by __\"current year – year\"__\n",
    "in the dataset."
   ]
  },
  {
   "cell_type": "code",
   "execution_count": 44,
   "id": "7d191470",
   "metadata": {},
   "outputs": [
    {
     "data": {
      "text/plain": [
       "0    2007\n",
       "1    2007\n",
       "2    2012\n",
       "3    2017\n",
       "4    2014\n",
       "Name: year, dtype: int64"
      ]
     },
     "execution_count": 44,
     "metadata": {},
     "output_type": "execute_result"
    }
   ],
   "source": [
    "df['year'].head()"
   ]
  },
  {
   "cell_type": "code",
   "execution_count": 45,
   "id": "a0133d3f",
   "metadata": {},
   "outputs": [],
   "source": [
    "current_year = datetime.datetime.now().year"
   ]
  },
  {
   "cell_type": "code",
   "execution_count": 46,
   "id": "3fc3704a",
   "metadata": {},
   "outputs": [
    {
     "data": {
      "text/html": [
       "<div>\n",
       "<style scoped>\n",
       "    .dataframe tbody tr th:only-of-type {\n",
       "        vertical-align: middle;\n",
       "    }\n",
       "\n",
       "    .dataframe tbody tr th {\n",
       "        vertical-align: top;\n",
       "    }\n",
       "\n",
       "    .dataframe thead th {\n",
       "        text-align: right;\n",
       "    }\n",
       "</style>\n",
       "<table border=\"1\" class=\"dataframe\">\n",
       "  <thead>\n",
       "    <tr style=\"text-align: right;\">\n",
       "      <th></th>\n",
       "      <th>name</th>\n",
       "      <th>year</th>\n",
       "      <th>selling_price</th>\n",
       "      <th>km_driven</th>\n",
       "      <th>fuel</th>\n",
       "      <th>seller_type</th>\n",
       "      <th>transmission</th>\n",
       "      <th>owner</th>\n",
       "      <th>age</th>\n",
       "    </tr>\n",
       "  </thead>\n",
       "  <tbody>\n",
       "    <tr>\n",
       "      <th>0</th>\n",
       "      <td>Maruti 800 AC</td>\n",
       "      <td>2007</td>\n",
       "      <td>60000</td>\n",
       "      <td>70000</td>\n",
       "      <td>Petrol</td>\n",
       "      <td>Individual</td>\n",
       "      <td>Manual</td>\n",
       "      <td>First Owner</td>\n",
       "      <td>16</td>\n",
       "    </tr>\n",
       "    <tr>\n",
       "      <th>1</th>\n",
       "      <td>Maruti Wagon R LXI Minor</td>\n",
       "      <td>2007</td>\n",
       "      <td>135000</td>\n",
       "      <td>50000</td>\n",
       "      <td>Petrol</td>\n",
       "      <td>Individual</td>\n",
       "      <td>Manual</td>\n",
       "      <td>First Owner</td>\n",
       "      <td>16</td>\n",
       "    </tr>\n",
       "    <tr>\n",
       "      <th>2</th>\n",
       "      <td>Hyundai Verna 1.6 SX</td>\n",
       "      <td>2012</td>\n",
       "      <td>600000</td>\n",
       "      <td>100000</td>\n",
       "      <td>Diesel</td>\n",
       "      <td>Individual</td>\n",
       "      <td>Manual</td>\n",
       "      <td>First Owner</td>\n",
       "      <td>11</td>\n",
       "    </tr>\n",
       "    <tr>\n",
       "      <th>3</th>\n",
       "      <td>Datsun RediGO T Option</td>\n",
       "      <td>2017</td>\n",
       "      <td>250000</td>\n",
       "      <td>46000</td>\n",
       "      <td>Petrol</td>\n",
       "      <td>Individual</td>\n",
       "      <td>Manual</td>\n",
       "      <td>First Owner</td>\n",
       "      <td>6</td>\n",
       "    </tr>\n",
       "    <tr>\n",
       "      <th>4</th>\n",
       "      <td>Honda Amaze VX i-DTEC</td>\n",
       "      <td>2014</td>\n",
       "      <td>450000</td>\n",
       "      <td>141000</td>\n",
       "      <td>Diesel</td>\n",
       "      <td>Individual</td>\n",
       "      <td>Manual</td>\n",
       "      <td>Second Owner</td>\n",
       "      <td>9</td>\n",
       "    </tr>\n",
       "  </tbody>\n",
       "</table>\n",
       "</div>"
      ],
      "text/plain": [
       "                       name  year  selling_price  km_driven    fuel  \\\n",
       "0             Maruti 800 AC  2007          60000      70000  Petrol   \n",
       "1  Maruti Wagon R LXI Minor  2007         135000      50000  Petrol   \n",
       "2      Hyundai Verna 1.6 SX  2012         600000     100000  Diesel   \n",
       "3    Datsun RediGO T Option  2017         250000      46000  Petrol   \n",
       "4     Honda Amaze VX i-DTEC  2014         450000     141000  Diesel   \n",
       "\n",
       "  seller_type transmission         owner  age  \n",
       "0  Individual       Manual   First Owner   16  \n",
       "1  Individual       Manual   First Owner   16  \n",
       "2  Individual       Manual   First Owner   11  \n",
       "3  Individual       Manual   First Owner    6  \n",
       "4  Individual       Manual  Second Owner    9  "
      ]
     },
     "execution_count": 46,
     "metadata": {},
     "output_type": "execute_result"
    }
   ],
   "source": [
    "df['age'] = current_year-df['year']\n",
    "df.head()"
   ]
  },
  {
   "cell_type": "markdown",
   "id": "0437d73e",
   "metadata": {},
   "source": [
    "<a id=\"153\"></a> <br>\n",
    "### C. Correlation Analysis"
   ]
  },
  {
   "cell_type": "code",
   "execution_count": 47,
   "id": "090b1743",
   "metadata": {},
   "outputs": [
    {
     "data": {
      "text/html": [
       "<div>\n",
       "<style scoped>\n",
       "    .dataframe tbody tr th:only-of-type {\n",
       "        vertical-align: middle;\n",
       "    }\n",
       "\n",
       "    .dataframe tbody tr th {\n",
       "        vertical-align: top;\n",
       "    }\n",
       "\n",
       "    .dataframe thead th {\n",
       "        text-align: right;\n",
       "    }\n",
       "</style>\n",
       "<table border=\"1\" class=\"dataframe\">\n",
       "  <thead>\n",
       "    <tr style=\"text-align: right;\">\n",
       "      <th></th>\n",
       "      <th>year</th>\n",
       "      <th>selling_price</th>\n",
       "      <th>km_driven</th>\n",
       "      <th>age</th>\n",
       "    </tr>\n",
       "  </thead>\n",
       "  <tbody>\n",
       "    <tr>\n",
       "      <th>year</th>\n",
       "      <td>1.000000</td>\n",
       "      <td>0.413922</td>\n",
       "      <td>-0.419688</td>\n",
       "      <td>-1.000000</td>\n",
       "    </tr>\n",
       "    <tr>\n",
       "      <th>selling_price</th>\n",
       "      <td>0.413922</td>\n",
       "      <td>1.000000</td>\n",
       "      <td>-0.192289</td>\n",
       "      <td>-0.413922</td>\n",
       "    </tr>\n",
       "    <tr>\n",
       "      <th>km_driven</th>\n",
       "      <td>-0.419688</td>\n",
       "      <td>-0.192289</td>\n",
       "      <td>1.000000</td>\n",
       "      <td>0.419688</td>\n",
       "    </tr>\n",
       "    <tr>\n",
       "      <th>age</th>\n",
       "      <td>-1.000000</td>\n",
       "      <td>-0.413922</td>\n",
       "      <td>0.419688</td>\n",
       "      <td>1.000000</td>\n",
       "    </tr>\n",
       "  </tbody>\n",
       "</table>\n",
       "</div>"
      ],
      "text/plain": [
       "                   year  selling_price  km_driven       age\n",
       "year           1.000000       0.413922  -0.419688 -1.000000\n",
       "selling_price  0.413922       1.000000  -0.192289 -0.413922\n",
       "km_driven     -0.419688      -0.192289   1.000000  0.419688\n",
       "age           -1.000000      -0.413922   0.419688  1.000000"
      ]
     },
     "execution_count": 47,
     "metadata": {},
     "output_type": "execute_result"
    }
   ],
   "source": [
    "corr_matrix = df.corr()\n",
    "corr_matrix"
   ]
  },
  {
   "cell_type": "code",
   "execution_count": 48,
   "id": "8c11b628",
   "metadata": {},
   "outputs": [
    {
     "data": {
      "image/png": "[encoded data removed]",
      "text/plain": [
       "<Figure size 864x864 with 2 Axes>"
      ]
     },
     "metadata": {
      "needs_background": "light"
     },
     "output_type": "display_data"
    }
   ],
   "source": [
    "fig, ax = plt.subplots(figsize=(12, 12))\n",
    "\n",
    "# Create heatmap of the correlation matrix\n",
    "sns.heatmap(corr_matrix, annot=True, cmap='coolwarm', ax=ax)\n",
    "plt.show()"
   ]
  },
  {
   "cell_type": "code",
   "execution_count": 49,
   "id": "de26869c",
   "metadata": {},
   "outputs": [
    {
     "data": {
      "image/png": "[encoded data removed]",
      "text/plain": [
       "<Figure size 540x540 with 12 Axes>"
      ]
     },
     "metadata": {
      "needs_background": "light"
     },
     "output_type": "display_data"
    }
   ],
   "source": [
    "columns = ['age', 'selling_price', 'km_driven']\n",
    "sns.pairplot(df[columns])\n",
    "plt.show()"
   ]
  },
  {
   "cell_type": "markdown",
   "id": "6b638e77",
   "metadata": {},
   "source": [
    "Car age and selling price have a moderate negative correlation. This means, the higher the age of the car, the lesser will be the selling price. The same is also evident from the scatter plot matrix.\n",
    "Also, the correlation coefficient shows that km_driven and Selling price has a moderate negative correlation.\n",
    "Therefore, the more kilometers are driven by a car, the lesser shall be selling price.\n",
    "Scatter plot matrix shows similar trend."
   ]
  },
  {
   "cell_type": "markdown",
   "id": "212e124c",
   "metadata": {},
   "source": [
    "<a id=\"154\"></a> <br>\n",
    "### D. Encode catagorical variables"
   ]
  },
  {
   "cell_type": "markdown",
   "id": "2395c8ce",
   "metadata": {},
   "source": [
    "There're several ways to encode catagorical variables, such as create dictionary for code mapping or using LabelEncoder in sklearn.preprocessing. In this part, we use LabelEncoder to encode nominal variables \"fuel\", \"seller_type\", \"transmission\" to discrete numeric variables."
   ]
  },
  {
   "cell_type": "code",
   "execution_count": 50,
   "id": "9b885c35",
   "metadata": {},
   "outputs": [
    {
     "name": "stdout",
     "output_type": "stream",
     "text": [
      "Diesel      2153\n",
      "Petrol      2123\n",
      "CNG           40\n",
      "LPG           23\n",
      "Electric       1\n",
      "Name: fuel, dtype: int64\n",
      "---------------------------\n",
      "Individual          3244\n",
      "Dealer               994\n",
      "Trustmark Dealer     102\n",
      "Name: seller_type, dtype: int64\n",
      "---------------------------\n",
      "Manual       3892\n",
      "Automatic     448\n",
      "Name: transmission, dtype: int64\n",
      "---------------------------\n",
      "First Owner             2832\n",
      "Second Owner            1106\n",
      "Third Owner              304\n",
      "Fourth & Above Owner      81\n",
      "Test Drive Car            17\n",
      "Name: owner, dtype: int64\n"
     ]
    }
   ],
   "source": [
    "#fuel\n",
    "print(df['fuel'].value_counts())\n",
    "print(\"---------------------------\")\n",
    "#seller_type\n",
    "print(df['seller_type'].value_counts())\n",
    "print(\"---------------------------\")\n",
    "#transmission\n",
    "print(df['transmission'].value_counts())\n",
    "print(\"---------------------------\")\n",
    "#owner\n",
    "print(df['owner'].value_counts())"
   ]
  },
  {
   "cell_type": "code",
   "execution_count": 51,
   "id": "b091be86",
   "metadata": {},
   "outputs": [],
   "source": [
    "le = LabelEncoder()\n",
    "df['transmission_encoded'] = le.fit_transform(df['transmission'])"
   ]
  },
  {
   "cell_type": "markdown",
   "id": "86a6e2b6",
   "metadata": {},
   "source": [
    "For nominal variables, one-hot encoding is used as there is no inherent order or magnitude between categories. Dummy variables are created in this case."
   ]
  },
  {
   "cell_type": "code",
   "execution_count": 52,
   "id": "cd3ca331",
   "metadata": {},
   "outputs": [],
   "source": [
    "# apply one-hot encoding\n",
    "fuel_one_hot_encoded = pd.get_dummies(df['fuel'])\n",
    "seller_type_one_hot_encoded = pd.get_dummies(df['seller_type'])"
   ]
  },
  {
   "cell_type": "code",
   "execution_count": 53,
   "id": "c02a4b6c",
   "metadata": {},
   "outputs": [],
   "source": [
    "# concatenate the one-hot encoded columns with the original DataFrame\n",
    "df = pd.concat([df, fuel_one_hot_encoded, seller_type_one_hot_encoded], axis=1)"
   ]
  },
  {
   "cell_type": "code",
   "execution_count": 54,
   "id": "b9759e5a",
   "metadata": {},
   "outputs": [
    {
     "data": {
      "text/html": [
       "<div>\n",
       "<style scoped>\n",
       "    .dataframe tbody tr th:only-of-type {\n",
       "        vertical-align: middle;\n",
       "    }\n",
       "\n",
       "    .dataframe tbody tr th {\n",
       "        vertical-align: top;\n",
       "    }\n",
       "\n",
       "    .dataframe thead th {\n",
       "        text-align: right;\n",
       "    }\n",
       "</style>\n",
       "<table border=\"1\" class=\"dataframe\">\n",
       "  <thead>\n",
       "    <tr style=\"text-align: right;\">\n",
       "      <th></th>\n",
       "      <th>name</th>\n",
       "      <th>year</th>\n",
       "      <th>selling_price</th>\n",
       "      <th>km_driven</th>\n",
       "      <th>fuel</th>\n",
       "      <th>seller_type</th>\n",
       "      <th>transmission</th>\n",
       "      <th>owner</th>\n",
       "      <th>age</th>\n",
       "      <th>transmission_encoded</th>\n",
       "      <th>CNG</th>\n",
       "      <th>Diesel</th>\n",
       "      <th>Electric</th>\n",
       "      <th>LPG</th>\n",
       "      <th>Petrol</th>\n",
       "      <th>Dealer</th>\n",
       "      <th>Individual</th>\n",
       "      <th>Trustmark Dealer</th>\n",
       "    </tr>\n",
       "  </thead>\n",
       "  <tbody>\n",
       "    <tr>\n",
       "      <th>0</th>\n",
       "      <td>Maruti 800 AC</td>\n",
       "      <td>2007</td>\n",
       "      <td>60000</td>\n",
       "      <td>70000</td>\n",
       "      <td>Petrol</td>\n",
       "      <td>Individual</td>\n",
       "      <td>Manual</td>\n",
       "      <td>First Owner</td>\n",
       "      <td>16</td>\n",
       "      <td>1</td>\n",
       "      <td>0</td>\n",
       "      <td>0</td>\n",
       "      <td>0</td>\n",
       "      <td>0</td>\n",
       "      <td>1</td>\n",
       "      <td>0</td>\n",
       "      <td>1</td>\n",
       "      <td>0</td>\n",
       "    </tr>\n",
       "    <tr>\n",
       "      <th>1</th>\n",
       "      <td>Maruti Wagon R LXI Minor</td>\n",
       "      <td>2007</td>\n",
       "      <td>135000</td>\n",
       "      <td>50000</td>\n",
       "      <td>Petrol</td>\n",
       "      <td>Individual</td>\n",
       "      <td>Manual</td>\n",
       "      <td>First Owner</td>\n",
       "      <td>16</td>\n",
       "      <td>1</td>\n",
       "      <td>0</td>\n",
       "      <td>0</td>\n",
       "      <td>0</td>\n",
       "      <td>0</td>\n",
       "      <td>1</td>\n",
       "      <td>0</td>\n",
       "      <td>1</td>\n",
       "      <td>0</td>\n",
       "    </tr>\n",
       "    <tr>\n",
       "      <th>2</th>\n",
       "      <td>Hyundai Verna 1.6 SX</td>\n",
       "      <td>2012</td>\n",
       "      <td>600000</td>\n",
       "      <td>100000</td>\n",
       "      <td>Diesel</td>\n",
       "      <td>Individual</td>\n",
       "      <td>Manual</td>\n",
       "      <td>First Owner</td>\n",
       "      <td>11</td>\n",
       "      <td>1</td>\n",
       "      <td>0</td>\n",
       "      <td>1</td>\n",
       "      <td>0</td>\n",
       "      <td>0</td>\n",
       "      <td>0</td>\n",
       "      <td>0</td>\n",
       "      <td>1</td>\n",
       "      <td>0</td>\n",
       "    </tr>\n",
       "    <tr>\n",
       "      <th>3</th>\n",
       "      <td>Datsun RediGO T Option</td>\n",
       "      <td>2017</td>\n",
       "      <td>250000</td>\n",
       "      <td>46000</td>\n",
       "      <td>Petrol</td>\n",
       "      <td>Individual</td>\n",
       "      <td>Manual</td>\n",
       "      <td>First Owner</td>\n",
       "      <td>6</td>\n",
       "      <td>1</td>\n",
       "      <td>0</td>\n",
       "      <td>0</td>\n",
       "      <td>0</td>\n",
       "      <td>0</td>\n",
       "      <td>1</td>\n",
       "      <td>0</td>\n",
       "      <td>1</td>\n",
       "      <td>0</td>\n",
       "    </tr>\n",
       "    <tr>\n",
       "      <th>4</th>\n",
       "      <td>Honda Amaze VX i-DTEC</td>\n",
       "      <td>2014</td>\n",
       "      <td>450000</td>\n",
       "      <td>141000</td>\n",
       "      <td>Diesel</td>\n",
       "      <td>Individual</td>\n",
       "      <td>Manual</td>\n",
       "      <td>Second Owner</td>\n",
       "      <td>9</td>\n",
       "      <td>1</td>\n",
       "      <td>0</td>\n",
       "      <td>1</td>\n",
       "      <td>0</td>\n",
       "      <td>0</td>\n",
       "      <td>0</td>\n",
       "      <td>0</td>\n",
       "      <td>1</td>\n",
       "      <td>0</td>\n",
       "    </tr>\n",
       "  </tbody>\n",
       "</table>\n",
       "</div>"
      ],
      "text/plain": [
       "                       name  year  selling_price  km_driven    fuel  \\\n",
       "0             Maruti 800 AC  2007          60000      70000  Petrol   \n",
       "1  Maruti Wagon R LXI Minor  2007         135000      50000  Petrol   \n",
       "2      Hyundai Verna 1.6 SX  2012         600000     100000  Diesel   \n",
       "3    Datsun RediGO T Option  2017         250000      46000  Petrol   \n",
       "4     Honda Amaze VX i-DTEC  2014         450000     141000  Diesel   \n",
       "\n",
       "  seller_type transmission         owner  age  transmission_encoded  CNG  \\\n",
       "0  Individual       Manual   First Owner   16                     1    0   \n",
       "1  Individual       Manual   First Owner   16                     1    0   \n",
       "2  Individual       Manual   First Owner   11                     1    0   \n",
       "3  Individual       Manual   First Owner    6                     1    0   \n",
       "4  Individual       Manual  Second Owner    9                     1    0   \n",
       "\n",
       "   Diesel  Electric  LPG  Petrol  Dealer  Individual  Trustmark Dealer  \n",
       "0       0         0    0       1       0           1                 0  \n",
       "1       0         0    0       1       0           1                 0  \n",
       "2       1         0    0       0       0           1                 0  \n",
       "3       0         0    0       1       0           1                 0  \n",
       "4       1         0    0       0       0           1                 0  "
      ]
     },
     "execution_count": 54,
     "metadata": {},
     "output_type": "execute_result"
    }
   ],
   "source": [
    "df.head()"
   ]
  },
  {
   "cell_type": "markdown",
   "id": "f1e315c1",
   "metadata": {},
   "source": [
    "Generally, the car price decrease for higher number of owners.\n",
    "Since \"owner\" is ordinal variable, it's suggested to use dictionary to define the encoding."
   ]
  },
  {
   "cell_type": "code",
   "execution_count": 55,
   "id": "017b56a2",
   "metadata": {},
   "outputs": [],
   "source": [
    "df.replace({\"owner\": \n",
    "            {\"First Owner\":1, \n",
    "             \"Second Owner\":2, \n",
    "             \"Third Owner\": 3, \n",
    "             \"Fourth & Above Owner\": 4, \n",
    "             \"Test Drive Car\": 0}\n",
    "           }, inplace=True)"
   ]
  },
  {
   "cell_type": "code",
   "execution_count": 56,
   "id": "19127e0b",
   "metadata": {},
   "outputs": [
    {
     "data": {
      "text/html": [
       "<div>\n",
       "<style scoped>\n",
       "    .dataframe tbody tr th:only-of-type {\n",
       "        vertical-align: middle;\n",
       "    }\n",
       "\n",
       "    .dataframe tbody tr th {\n",
       "        vertical-align: top;\n",
       "    }\n",
       "\n",
       "    .dataframe thead th {\n",
       "        text-align: right;\n",
       "    }\n",
       "</style>\n",
       "<table border=\"1\" class=\"dataframe\">\n",
       "  <thead>\n",
       "    <tr style=\"text-align: right;\">\n",
       "      <th></th>\n",
       "      <th>name</th>\n",
       "      <th>year</th>\n",
       "      <th>selling_price</th>\n",
       "      <th>km_driven</th>\n",
       "      <th>fuel</th>\n",
       "      <th>seller_type</th>\n",
       "      <th>transmission</th>\n",
       "      <th>owner</th>\n",
       "      <th>age</th>\n",
       "      <th>transmission_encoded</th>\n",
       "      <th>CNG</th>\n",
       "      <th>Diesel</th>\n",
       "      <th>Electric</th>\n",
       "      <th>LPG</th>\n",
       "      <th>Petrol</th>\n",
       "      <th>Dealer</th>\n",
       "      <th>Individual</th>\n",
       "      <th>Trustmark Dealer</th>\n",
       "    </tr>\n",
       "  </thead>\n",
       "  <tbody>\n",
       "    <tr>\n",
       "      <th>0</th>\n",
       "      <td>Maruti 800 AC</td>\n",
       "      <td>2007</td>\n",
       "      <td>60000</td>\n",
       "      <td>70000</td>\n",
       "      <td>Petrol</td>\n",
       "      <td>Individual</td>\n",
       "      <td>Manual</td>\n",
       "      <td>1</td>\n",
       "      <td>16</td>\n",
       "      <td>1</td>\n",
       "      <td>0</td>\n",
       "      <td>0</td>\n",
       "      <td>0</td>\n",
       "      <td>0</td>\n",
       "      <td>1</td>\n",
       "      <td>0</td>\n",
       "      <td>1</td>\n",
       "      <td>0</td>\n",
       "    </tr>\n",
       "    <tr>\n",
       "      <th>1</th>\n",
       "      <td>Maruti Wagon R LXI Minor</td>\n",
       "      <td>2007</td>\n",
       "      <td>135000</td>\n",
       "      <td>50000</td>\n",
       "      <td>Petrol</td>\n",
       "      <td>Individual</td>\n",
       "      <td>Manual</td>\n",
       "      <td>1</td>\n",
       "      <td>16</td>\n",
       "      <td>1</td>\n",
       "      <td>0</td>\n",
       "      <td>0</td>\n",
       "      <td>0</td>\n",
       "      <td>0</td>\n",
       "      <td>1</td>\n",
       "      <td>0</td>\n",
       "      <td>1</td>\n",
       "      <td>0</td>\n",
       "    </tr>\n",
       "    <tr>\n",
       "      <th>2</th>\n",
       "      <td>Hyundai Verna 1.6 SX</td>\n",
       "      <td>2012</td>\n",
       "      <td>600000</td>\n",
       "      <td>100000</td>\n",
       "      <td>Diesel</td>\n",
       "      <td>Individual</td>\n",
       "      <td>Manual</td>\n",
       "      <td>1</td>\n",
       "      <td>11</td>\n",
       "      <td>1</td>\n",
       "      <td>0</td>\n",
       "      <td>1</td>\n",
       "      <td>0</td>\n",
       "      <td>0</td>\n",
       "      <td>0</td>\n",
       "      <td>0</td>\n",
       "      <td>1</td>\n",
       "      <td>0</td>\n",
       "    </tr>\n",
       "    <tr>\n",
       "      <th>3</th>\n",
       "      <td>Datsun RediGO T Option</td>\n",
       "      <td>2017</td>\n",
       "      <td>250000</td>\n",
       "      <td>46000</td>\n",
       "      <td>Petrol</td>\n",
       "      <td>Individual</td>\n",
       "      <td>Manual</td>\n",
       "      <td>1</td>\n",
       "      <td>6</td>\n",
       "      <td>1</td>\n",
       "      <td>0</td>\n",
       "      <td>0</td>\n",
       "      <td>0</td>\n",
       "      <td>0</td>\n",
       "      <td>1</td>\n",
       "      <td>0</td>\n",
       "      <td>1</td>\n",
       "      <td>0</td>\n",
       "    </tr>\n",
       "    <tr>\n",
       "      <th>4</th>\n",
       "      <td>Honda Amaze VX i-DTEC</td>\n",
       "      <td>2014</td>\n",
       "      <td>450000</td>\n",
       "      <td>141000</td>\n",
       "      <td>Diesel</td>\n",
       "      <td>Individual</td>\n",
       "      <td>Manual</td>\n",
       "      <td>2</td>\n",
       "      <td>9</td>\n",
       "      <td>1</td>\n",
       "      <td>0</td>\n",
       "      <td>1</td>\n",
       "      <td>0</td>\n",
       "      <td>0</td>\n",
       "      <td>0</td>\n",
       "      <td>0</td>\n",
       "      <td>1</td>\n",
       "      <td>0</td>\n",
       "    </tr>\n",
       "  </tbody>\n",
       "</table>\n",
       "</div>"
      ],
      "text/plain": [
       "                       name  year  selling_price  km_driven    fuel  \\\n",
       "0             Maruti 800 AC  2007          60000      70000  Petrol   \n",
       "1  Maruti Wagon R LXI Minor  2007         135000      50000  Petrol   \n",
       "2      Hyundai Verna 1.6 SX  2012         600000     100000  Diesel   \n",
       "3    Datsun RediGO T Option  2017         250000      46000  Petrol   \n",
       "4     Honda Amaze VX i-DTEC  2014         450000     141000  Diesel   \n",
       "\n",
       "  seller_type transmission  owner  age  transmission_encoded  CNG  Diesel  \\\n",
       "0  Individual       Manual      1   16                     1    0       0   \n",
       "1  Individual       Manual      1   16                     1    0       0   \n",
       "2  Individual       Manual      1   11                     1    0       1   \n",
       "3  Individual       Manual      1    6                     1    0       0   \n",
       "4  Individual       Manual      2    9                     1    0       1   \n",
       "\n",
       "   Electric  LPG  Petrol  Dealer  Individual  Trustmark Dealer  \n",
       "0         0    0       1       0           1                 0  \n",
       "1         0    0       1       0           1                 0  \n",
       "2         0    0       0       0           1                 0  \n",
       "3         0    0       1       0           1                 0  \n",
       "4         0    0       0       0           1                 0  "
      ]
     },
     "execution_count": 56,
     "metadata": {},
     "output_type": "execute_result"
    }
   ],
   "source": [
    "df.head()"
   ]
  },
  {
   "cell_type": "markdown",
   "id": "9d5f61de",
   "metadata": {},
   "source": [
    "<a id=\"16\"></a> <br>\n",
    "## 6. Data Analysis"
   ]
  },
  {
   "cell_type": "markdown",
   "id": "93973697",
   "metadata": {},
   "source": [
    "<a id=\"161\"></a> <br>\n",
    "### A. Boxplot graphs, Histograms and Q-Q plots"
   ]
  },
  {
   "cell_type": "code",
   "execution_count": 57,
   "id": "9c07c810",
   "metadata": {},
   "outputs": [
    {
     "data": {
      "image/png": "[encoded data removed]",
      "text/plain": [
       "<Figure size 720x360 with 3 Axes>"
      ]
     },
     "metadata": {
      "needs_background": "light"
     },
     "output_type": "display_data"
    }
   ],
   "source": [
    "# create subplots with 1 row and 3 columns\n",
    "fig, axes = plt.subplots(nrows=1, ncols=3, figsize=(10, 5))\n",
    "\n",
    "\n",
    "# create a boxplot for each column and place it in the corresponding subplot\n",
    "df[['age']].boxplot(ax=axes[0])\n",
    "df[['selling_price']].boxplot(ax=axes[1])\n",
    "df[['km_driven']].boxplot(ax=axes[2])\n",
    "\n",
    "axes[0].set_title('Boxplot for Age')\n",
    "axes[0].set_ylabel('Values')\n",
    "\n",
    "axes[1].set_title('Boxplot for Selling Price')\n",
    "axes[1].set_ylabel('Values')\n",
    "\n",
    "axes[2].set_title('Boxplot for KM driven')\n",
    "axes[2].set_ylabel('Values')\n",
    "\n",
    "plt.subplots_adjust(wspace=0.5, hspace=0.5)\n",
    "\n",
    "plt.show()"
   ]
  },
  {
   "cell_type": "markdown",
   "id": "adbedc60",
   "metadata": {},
   "source": [
    "From the above box plots it's found that outliers present the in selling price.\n",
    "On checking for the corresponding values in the dataset we saw that the high price was for\n",
    "luxury cars such as Mercedez and Audi. Therefore, these outliers are expected and it's not neccessary to remove them. Instead, the model could consider addding the new categorical variable \"make\" which can be splited from the variable \"name\"."
   ]
  },
  {
   "cell_type": "code",
   "execution_count": 58,
   "id": "f951869a",
   "metadata": {},
   "outputs": [
    {
     "data": {
      "image/png": "[encoded data removed]",
      "text/plain": [
       "<Figure size 432x288 with 4 Axes>"
      ]
     },
     "metadata": {
      "needs_background": "light"
     },
     "output_type": "display_data"
    }
   ],
   "source": [
    "# histograms\n",
    "df.hist(column=['age', 'selling_price', 'km_driven'])\n",
    "plt.tight_layout()\n",
    "plt.show()"
   ]
  },
  {
   "cell_type": "code",
   "execution_count": 59,
   "id": "33d7eccc",
   "metadata": {},
   "outputs": [
    {
     "data": {
      "image/png": "[encoded data removed]",
      "text/plain": [
       "<Figure size 1296x288 with 3 Axes>"
      ]
     },
     "metadata": {
      "needs_background": "light"
     },
     "output_type": "display_data"
    }
   ],
   "source": [
    "# QQ Plot\n",
    "columns = ['age', 'selling_price', 'km_driven']\n",
    "\n",
    "fig, axes = plt.subplots(nrows=1, ncols=len(columns), figsize=(6 * len(columns), 4))\n",
    "\n",
    "# Iterate over the specified columns and create Q-Q plots\n",
    "for i, col in enumerate(columns):\n",
    "    ax = axes[i]\n",
    "    stats.probplot(df[col], dist='norm', plot=ax)\n",
    "    ax.set_title(col)\n",
    "\n",
    "plt.tight_layout()\n",
    "plt.show()"
   ]
  },
  {
   "cell_type": "markdown",
   "id": "904d3f04",
   "metadata": {},
   "source": [
    "From the Q-Q plot, it is found that distribution of both variables age, selling and km driven not \"perfectly\" follow a specific theoretical distribution. Non-linear relationships may exist. In this analysis, we will create a baseline linear regression model, then we try to further explore other relationship from the predicted values."
   ]
  },
  {
   "cell_type": "markdown",
   "id": "4cba8a43",
   "metadata": {},
   "source": [
    "<a id=\"162\"></a> <br>\n",
    "### B. Create new variable after analysis"
   ]
  },
  {
   "cell_type": "code",
   "execution_count": 60,
   "id": "689d0a54",
   "metadata": {},
   "outputs": [],
   "source": [
    "# extract characters before the first space\n",
    "df['make'] = df['name'].str.split().str[0]"
   ]
  },
  {
   "cell_type": "code",
   "execution_count": 61,
   "id": "57f54d92",
   "metadata": {},
   "outputs": [
    {
     "data": {
      "text/html": [
       "<div>\n",
       "<style scoped>\n",
       "    .dataframe tbody tr th:only-of-type {\n",
       "        vertical-align: middle;\n",
       "    }\n",
       "\n",
       "    .dataframe tbody tr th {\n",
       "        vertical-align: top;\n",
       "    }\n",
       "\n",
       "    .dataframe thead th {\n",
       "        text-align: right;\n",
       "    }\n",
       "</style>\n",
       "<table border=\"1\" class=\"dataframe\">\n",
       "  <thead>\n",
       "    <tr style=\"text-align: right;\">\n",
       "      <th></th>\n",
       "      <th>name</th>\n",
       "      <th>year</th>\n",
       "      <th>selling_price</th>\n",
       "      <th>km_driven</th>\n",
       "      <th>fuel</th>\n",
       "      <th>seller_type</th>\n",
       "      <th>transmission</th>\n",
       "      <th>owner</th>\n",
       "      <th>age</th>\n",
       "      <th>transmission_encoded</th>\n",
       "      <th>CNG</th>\n",
       "      <th>Diesel</th>\n",
       "      <th>Electric</th>\n",
       "      <th>LPG</th>\n",
       "      <th>Petrol</th>\n",
       "      <th>Dealer</th>\n",
       "      <th>Individual</th>\n",
       "      <th>Trustmark Dealer</th>\n",
       "      <th>make</th>\n",
       "    </tr>\n",
       "  </thead>\n",
       "  <tbody>\n",
       "    <tr>\n",
       "      <th>0</th>\n",
       "      <td>Maruti 800 AC</td>\n",
       "      <td>2007</td>\n",
       "      <td>60000</td>\n",
       "      <td>70000</td>\n",
       "      <td>Petrol</td>\n",
       "      <td>Individual</td>\n",
       "      <td>Manual</td>\n",
       "      <td>1</td>\n",
       "      <td>16</td>\n",
       "      <td>1</td>\n",
       "      <td>0</td>\n",
       "      <td>0</td>\n",
       "      <td>0</td>\n",
       "      <td>0</td>\n",
       "      <td>1</td>\n",
       "      <td>0</td>\n",
       "      <td>1</td>\n",
       "      <td>0</td>\n",
       "      <td>Maruti</td>\n",
       "    </tr>\n",
       "    <tr>\n",
       "      <th>1</th>\n",
       "      <td>Maruti Wagon R LXI Minor</td>\n",
       "      <td>2007</td>\n",
       "      <td>135000</td>\n",
       "      <td>50000</td>\n",
       "      <td>Petrol</td>\n",
       "      <td>Individual</td>\n",
       "      <td>Manual</td>\n",
       "      <td>1</td>\n",
       "      <td>16</td>\n",
       "      <td>1</td>\n",
       "      <td>0</td>\n",
       "      <td>0</td>\n",
       "      <td>0</td>\n",
       "      <td>0</td>\n",
       "      <td>1</td>\n",
       "      <td>0</td>\n",
       "      <td>1</td>\n",
       "      <td>0</td>\n",
       "      <td>Maruti</td>\n",
       "    </tr>\n",
       "    <tr>\n",
       "      <th>2</th>\n",
       "      <td>Hyundai Verna 1.6 SX</td>\n",
       "      <td>2012</td>\n",
       "      <td>600000</td>\n",
       "      <td>100000</td>\n",
       "      <td>Diesel</td>\n",
       "      <td>Individual</td>\n",
       "      <td>Manual</td>\n",
       "      <td>1</td>\n",
       "      <td>11</td>\n",
       "      <td>1</td>\n",
       "      <td>0</td>\n",
       "      <td>1</td>\n",
       "      <td>0</td>\n",
       "      <td>0</td>\n",
       "      <td>0</td>\n",
       "      <td>0</td>\n",
       "      <td>1</td>\n",
       "      <td>0</td>\n",
       "      <td>Hyundai</td>\n",
       "    </tr>\n",
       "    <tr>\n",
       "      <th>3</th>\n",
       "      <td>Datsun RediGO T Option</td>\n",
       "      <td>2017</td>\n",
       "      <td>250000</td>\n",
       "      <td>46000</td>\n",
       "      <td>Petrol</td>\n",
       "      <td>Individual</td>\n",
       "      <td>Manual</td>\n",
       "      <td>1</td>\n",
       "      <td>6</td>\n",
       "      <td>1</td>\n",
       "      <td>0</td>\n",
       "      <td>0</td>\n",
       "      <td>0</td>\n",
       "      <td>0</td>\n",
       "      <td>1</td>\n",
       "      <td>0</td>\n",
       "      <td>1</td>\n",
       "      <td>0</td>\n",
       "      <td>Datsun</td>\n",
       "    </tr>\n",
       "    <tr>\n",
       "      <th>4</th>\n",
       "      <td>Honda Amaze VX i-DTEC</td>\n",
       "      <td>2014</td>\n",
       "      <td>450000</td>\n",
       "      <td>141000</td>\n",
       "      <td>Diesel</td>\n",
       "      <td>Individual</td>\n",
       "      <td>Manual</td>\n",
       "      <td>2</td>\n",
       "      <td>9</td>\n",
       "      <td>1</td>\n",
       "      <td>0</td>\n",
       "      <td>1</td>\n",
       "      <td>0</td>\n",
       "      <td>0</td>\n",
       "      <td>0</td>\n",
       "      <td>0</td>\n",
       "      <td>1</td>\n",
       "      <td>0</td>\n",
       "      <td>Honda</td>\n",
       "    </tr>\n",
       "  </tbody>\n",
       "</table>\n",
       "</div>"
      ],
      "text/plain": [
       "                       name  year  selling_price  km_driven    fuel  \\\n",
       "0             Maruti 800 AC  2007          60000      70000  Petrol   \n",
       "1  Maruti Wagon R LXI Minor  2007         135000      50000  Petrol   \n",
       "2      Hyundai Verna 1.6 SX  2012         600000     100000  Diesel   \n",
       "3    Datsun RediGO T Option  2017         250000      46000  Petrol   \n",
       "4     Honda Amaze VX i-DTEC  2014         450000     141000  Diesel   \n",
       "\n",
       "  seller_type transmission  owner  age  transmission_encoded  CNG  Diesel  \\\n",
       "0  Individual       Manual      1   16                     1    0       0   \n",
       "1  Individual       Manual      1   16                     1    0       0   \n",
       "2  Individual       Manual      1   11                     1    0       1   \n",
       "3  Individual       Manual      1    6                     1    0       0   \n",
       "4  Individual       Manual      2    9                     1    0       1   \n",
       "\n",
       "   Electric  LPG  Petrol  Dealer  Individual  Trustmark Dealer     make  \n",
       "0         0    0       1       0           1                 0   Maruti  \n",
       "1         0    0       1       0           1                 0   Maruti  \n",
       "2         0    0       0       0           1                 0  Hyundai  \n",
       "3         0    0       1       0           1                 0   Datsun  \n",
       "4         0    0       0       0           1                 0    Honda  "
      ]
     },
     "execution_count": 61,
     "metadata": {},
     "output_type": "execute_result"
    }
   ],
   "source": [
    "df.head()"
   ]
  },
  {
   "cell_type": "code",
   "execution_count": 62,
   "id": "4bfff1f3",
   "metadata": {},
   "outputs": [
    {
     "data": {
      "text/plain": [
       "Maruti           1280\n",
       "Hyundai           821\n",
       "Mahindra          365\n",
       "Tata              361\n",
       "Honda             252\n",
       "Ford              238\n",
       "Toyota            206\n",
       "Chevrolet         188\n",
       "Renault           146\n",
       "Volkswagen        107\n",
       "Skoda              68\n",
       "Nissan             64\n",
       "Audi               60\n",
       "BMW                39\n",
       "Fiat               37\n",
       "Datsun             37\n",
       "Mercedes-Benz      35\n",
       "Jaguar              6\n",
       "Mitsubishi          6\n",
       "Land                5\n",
       "Volvo               4\n",
       "Ambassador          4\n",
       "Jeep                3\n",
       "MG                  2\n",
       "OpelCorsa           2\n",
       "Daewoo              1\n",
       "Force               1\n",
       "Isuzu               1\n",
       "Kia                 1\n",
       "Name: make, dtype: int64"
      ]
     },
     "execution_count": 62,
     "metadata": {},
     "output_type": "execute_result"
    }
   ],
   "source": [
    "df['make'].value_counts()"
   ]
  },
  {
   "cell_type": "markdown",
   "id": "a887d7c4",
   "metadata": {},
   "source": [
    "Again, one-hot encoding is used for nominal variables."
   ]
  },
  {
   "cell_type": "code",
   "execution_count": 63,
   "id": "7d9a8726",
   "metadata": {},
   "outputs": [],
   "source": [
    "# encoding\n",
    "make_one_hot_encoded = pd.get_dummies(df['make'])\n",
    "# concatenate the one-hot encoded columns with the original DataFrame\n",
    "df = pd.concat([df, make_one_hot_encoded], axis=1)"
   ]
  },
  {
   "cell_type": "code",
   "execution_count": 64,
   "id": "2fe74208",
   "metadata": {},
   "outputs": [
    {
     "data": {
      "text/html": [
       "<div>\n",
       "<style scoped>\n",
       "    .dataframe tbody tr th:only-of-type {\n",
       "        vertical-align: middle;\n",
       "    }\n",
       "\n",
       "    .dataframe tbody tr th {\n",
       "        vertical-align: top;\n",
       "    }\n",
       "\n",
       "    .dataframe thead th {\n",
       "        text-align: right;\n",
       "    }\n",
       "</style>\n",
       "<table border=\"1\" class=\"dataframe\">\n",
       "  <thead>\n",
       "    <tr style=\"text-align: right;\">\n",
       "      <th></th>\n",
       "      <th>name</th>\n",
       "      <th>year</th>\n",
       "      <th>selling_price</th>\n",
       "      <th>km_driven</th>\n",
       "      <th>fuel</th>\n",
       "      <th>seller_type</th>\n",
       "      <th>transmission</th>\n",
       "      <th>owner</th>\n",
       "      <th>age</th>\n",
       "      <th>transmission_encoded</th>\n",
       "      <th>...</th>\n",
       "      <th>Mercedes-Benz</th>\n",
       "      <th>Mitsubishi</th>\n",
       "      <th>Nissan</th>\n",
       "      <th>OpelCorsa</th>\n",
       "      <th>Renault</th>\n",
       "      <th>Skoda</th>\n",
       "      <th>Tata</th>\n",
       "      <th>Toyota</th>\n",
       "      <th>Volkswagen</th>\n",
       "      <th>Volvo</th>\n",
       "    </tr>\n",
       "  </thead>\n",
       "  <tbody>\n",
       "    <tr>\n",
       "      <th>0</th>\n",
       "      <td>Maruti 800 AC</td>\n",
       "      <td>2007</td>\n",
       "      <td>60000</td>\n",
       "      <td>70000</td>\n",
       "      <td>Petrol</td>\n",
       "      <td>Individual</td>\n",
       "      <td>Manual</td>\n",
       "      <td>1</td>\n",
       "      <td>16</td>\n",
       "      <td>1</td>\n",
       "      <td>...</td>\n",
       "      <td>0</td>\n",
       "      <td>0</td>\n",
       "      <td>0</td>\n",
       "      <td>0</td>\n",
       "      <td>0</td>\n",
       "      <td>0</td>\n",
       "      <td>0</td>\n",
       "      <td>0</td>\n",
       "      <td>0</td>\n",
       "      <td>0</td>\n",
       "    </tr>\n",
       "    <tr>\n",
       "      <th>1</th>\n",
       "      <td>Maruti Wagon R LXI Minor</td>\n",
       "      <td>2007</td>\n",
       "      <td>135000</td>\n",
       "      <td>50000</td>\n",
       "      <td>Petrol</td>\n",
       "      <td>Individual</td>\n",
       "      <td>Manual</td>\n",
       "      <td>1</td>\n",
       "      <td>16</td>\n",
       "      <td>1</td>\n",
       "      <td>...</td>\n",
       "      <td>0</td>\n",
       "      <td>0</td>\n",
       "      <td>0</td>\n",
       "      <td>0</td>\n",
       "      <td>0</td>\n",
       "      <td>0</td>\n",
       "      <td>0</td>\n",
       "      <td>0</td>\n",
       "      <td>0</td>\n",
       "      <td>0</td>\n",
       "    </tr>\n",
       "    <tr>\n",
       "      <th>2</th>\n",
       "      <td>Hyundai Verna 1.6 SX</td>\n",
       "      <td>2012</td>\n",
       "      <td>600000</td>\n",
       "      <td>100000</td>\n",
       "      <td>Diesel</td>\n",
       "      <td>Individual</td>\n",
       "      <td>Manual</td>\n",
       "      <td>1</td>\n",
       "      <td>11</td>\n",
       "      <td>1</td>\n",
       "      <td>...</td>\n",
       "      <td>0</td>\n",
       "      <td>0</td>\n",
       "      <td>0</td>\n",
       "      <td>0</td>\n",
       "      <td>0</td>\n",
       "      <td>0</td>\n",
       "      <td>0</td>\n",
       "      <td>0</td>\n",
       "      <td>0</td>\n",
       "      <td>0</td>\n",
       "    </tr>\n",
       "    <tr>\n",
       "      <th>3</th>\n",
       "      <td>Datsun RediGO T Option</td>\n",
       "      <td>2017</td>\n",
       "      <td>250000</td>\n",
       "      <td>46000</td>\n",
       "      <td>Petrol</td>\n",
       "      <td>Individual</td>\n",
       "      <td>Manual</td>\n",
       "      <td>1</td>\n",
       "      <td>6</td>\n",
       "      <td>1</td>\n",
       "      <td>...</td>\n",
       "      <td>0</td>\n",
       "      <td>0</td>\n",
       "      <td>0</td>\n",
       "      <td>0</td>\n",
       "      <td>0</td>\n",
       "      <td>0</td>\n",
       "      <td>0</td>\n",
       "      <td>0</td>\n",
       "      <td>0</td>\n",
       "      <td>0</td>\n",
       "    </tr>\n",
       "    <tr>\n",
       "      <th>4</th>\n",
       "      <td>Honda Amaze VX i-DTEC</td>\n",
       "      <td>2014</td>\n",
       "      <td>450000</td>\n",
       "      <td>141000</td>\n",
       "      <td>Diesel</td>\n",
       "      <td>Individual</td>\n",
       "      <td>Manual</td>\n",
       "      <td>2</td>\n",
       "      <td>9</td>\n",
       "      <td>1</td>\n",
       "      <td>...</td>\n",
       "      <td>0</td>\n",
       "      <td>0</td>\n",
       "      <td>0</td>\n",
       "      <td>0</td>\n",
       "      <td>0</td>\n",
       "      <td>0</td>\n",
       "      <td>0</td>\n",
       "      <td>0</td>\n",
       "      <td>0</td>\n",
       "      <td>0</td>\n",
       "    </tr>\n",
       "  </tbody>\n",
       "</table>\n",
       "<p>5 rows × 48 columns</p>\n",
       "</div>"
      ],
      "text/plain": [
       "                       name  year  selling_price  km_driven    fuel  \\\n",
       "0             Maruti 800 AC  2007          60000      70000  Petrol   \n",
       "1  Maruti Wagon R LXI Minor  2007         135000      50000  Petrol   \n",
       "2      Hyundai Verna 1.6 SX  2012         600000     100000  Diesel   \n",
       "3    Datsun RediGO T Option  2017         250000      46000  Petrol   \n",
       "4     Honda Amaze VX i-DTEC  2014         450000     141000  Diesel   \n",
       "\n",
       "  seller_type transmission  owner  age  transmission_encoded  ...  \\\n",
       "0  Individual       Manual      1   16                     1  ...   \n",
       "1  Individual       Manual      1   16                     1  ...   \n",
       "2  Individual       Manual      1   11                     1  ...   \n",
       "3  Individual       Manual      1    6                     1  ...   \n",
       "4  Individual       Manual      2    9                     1  ...   \n",
       "\n",
       "   Mercedes-Benz  Mitsubishi  Nissan  OpelCorsa  Renault  Skoda  Tata  Toyota  \\\n",
       "0              0           0       0          0        0      0     0       0   \n",
       "1              0           0       0          0        0      0     0       0   \n",
       "2              0           0       0          0        0      0     0       0   \n",
       "3              0           0       0          0        0      0     0       0   \n",
       "4              0           0       0          0        0      0     0       0   \n",
       "\n",
       "  Volkswagen  Volvo  \n",
       "0          0      0  \n",
       "1          0      0  \n",
       "2          0      0  \n",
       "3          0      0  \n",
       "4          0      0  \n",
       "\n",
       "[5 rows x 48 columns]"
      ]
     },
     "execution_count": 64,
     "metadata": {},
     "output_type": "execute_result"
    }
   ],
   "source": [
    "df.head()"
   ]
  },
  {
   "cell_type": "markdown",
   "id": "7d115a47",
   "metadata": {},
   "source": [
    "<a id=\"17\"></a> <br>\n",
    "## 7. Training a Linear Regression Model"
   ]
  },
  {
   "cell_type": "markdown",
   "id": "c31fd6c7",
   "metadata": {},
   "source": [
    "<a id=\"171\"></a> <br>\n",
    "### A. Select explanatory and response variables from the dataset"
   ]
  },
  {
   "cell_type": "code",
   "execution_count": 65,
   "id": "e0ea2902",
   "metadata": {},
   "outputs": [
    {
     "name": "stdout",
     "output_type": "stream",
     "text": [
      "Index(['name', 'year', 'selling_price', 'km_driven', 'fuel', 'seller_type',\n",
      "       'transmission', 'owner', 'age', 'transmission_encoded', 'CNG', 'Diesel',\n",
      "       'Electric', 'LPG', 'Petrol', 'Dealer', 'Individual', 'Trustmark Dealer',\n",
      "       'make', 'Ambassador', 'Audi', 'BMW', 'Chevrolet', 'Daewoo', 'Datsun',\n",
      "       'Fiat', 'Force', 'Ford', 'Honda', 'Hyundai', 'Isuzu', 'Jaguar', 'Jeep',\n",
      "       'Kia', 'Land', 'MG', 'Mahindra', 'Maruti', 'Mercedes-Benz',\n",
      "       'Mitsubishi', 'Nissan', 'OpelCorsa', 'Renault', 'Skoda', 'Tata',\n",
      "       'Toyota', 'Volkswagen', 'Volvo'],\n",
      "      dtype='object')\n"
     ]
    }
   ],
   "source": [
    "# display column names\n",
    "print(df.columns)"
   ]
  },
  {
   "cell_type": "code",
   "execution_count": 66,
   "id": "93474f21",
   "metadata": {},
   "outputs": [
    {
     "data": {
      "text/html": [
       "<div>\n",
       "<style scoped>\n",
       "    .dataframe tbody tr th:only-of-type {\n",
       "        vertical-align: middle;\n",
       "    }\n",
       "\n",
       "    .dataframe tbody tr th {\n",
       "        vertical-align: top;\n",
       "    }\n",
       "\n",
       "    .dataframe thead th {\n",
       "        text-align: right;\n",
       "    }\n",
       "</style>\n",
       "<table border=\"1\" class=\"dataframe\">\n",
       "  <thead>\n",
       "    <tr style=\"text-align: right;\">\n",
       "      <th></th>\n",
       "      <th>km_driven</th>\n",
       "      <th>owner</th>\n",
       "      <th>age</th>\n",
       "      <th>transmission_encoded</th>\n",
       "      <th>CNG</th>\n",
       "      <th>Diesel</th>\n",
       "      <th>Electric</th>\n",
       "      <th>LPG</th>\n",
       "      <th>Petrol</th>\n",
       "      <th>Dealer</th>\n",
       "      <th>...</th>\n",
       "      <th>Mercedes-Benz</th>\n",
       "      <th>Mitsubishi</th>\n",
       "      <th>Nissan</th>\n",
       "      <th>OpelCorsa</th>\n",
       "      <th>Renault</th>\n",
       "      <th>Skoda</th>\n",
       "      <th>Tata</th>\n",
       "      <th>Toyota</th>\n",
       "      <th>Volkswagen</th>\n",
       "      <th>Volvo</th>\n",
       "    </tr>\n",
       "  </thead>\n",
       "  <tbody>\n",
       "    <tr>\n",
       "      <th>0</th>\n",
       "      <td>70000</td>\n",
       "      <td>1</td>\n",
       "      <td>16</td>\n",
       "      <td>1</td>\n",
       "      <td>0</td>\n",
       "      <td>0</td>\n",
       "      <td>0</td>\n",
       "      <td>0</td>\n",
       "      <td>1</td>\n",
       "      <td>0</td>\n",
       "      <td>...</td>\n",
       "      <td>0</td>\n",
       "      <td>0</td>\n",
       "      <td>0</td>\n",
       "      <td>0</td>\n",
       "      <td>0</td>\n",
       "      <td>0</td>\n",
       "      <td>0</td>\n",
       "      <td>0</td>\n",
       "      <td>0</td>\n",
       "      <td>0</td>\n",
       "    </tr>\n",
       "    <tr>\n",
       "      <th>1</th>\n",
       "      <td>50000</td>\n",
       "      <td>1</td>\n",
       "      <td>16</td>\n",
       "      <td>1</td>\n",
       "      <td>0</td>\n",
       "      <td>0</td>\n",
       "      <td>0</td>\n",
       "      <td>0</td>\n",
       "      <td>1</td>\n",
       "      <td>0</td>\n",
       "      <td>...</td>\n",
       "      <td>0</td>\n",
       "      <td>0</td>\n",
       "      <td>0</td>\n",
       "      <td>0</td>\n",
       "      <td>0</td>\n",
       "      <td>0</td>\n",
       "      <td>0</td>\n",
       "      <td>0</td>\n",
       "      <td>0</td>\n",
       "      <td>0</td>\n",
       "    </tr>\n",
       "    <tr>\n",
       "      <th>2</th>\n",
       "      <td>100000</td>\n",
       "      <td>1</td>\n",
       "      <td>11</td>\n",
       "      <td>1</td>\n",
       "      <td>0</td>\n",
       "      <td>1</td>\n",
       "      <td>0</td>\n",
       "      <td>0</td>\n",
       "      <td>0</td>\n",
       "      <td>0</td>\n",
       "      <td>...</td>\n",
       "      <td>0</td>\n",
       "      <td>0</td>\n",
       "      <td>0</td>\n",
       "      <td>0</td>\n",
       "      <td>0</td>\n",
       "      <td>0</td>\n",
       "      <td>0</td>\n",
       "      <td>0</td>\n",
       "      <td>0</td>\n",
       "      <td>0</td>\n",
       "    </tr>\n",
       "    <tr>\n",
       "      <th>3</th>\n",
       "      <td>46000</td>\n",
       "      <td>1</td>\n",
       "      <td>6</td>\n",
       "      <td>1</td>\n",
       "      <td>0</td>\n",
       "      <td>0</td>\n",
       "      <td>0</td>\n",
       "      <td>0</td>\n",
       "      <td>1</td>\n",
       "      <td>0</td>\n",
       "      <td>...</td>\n",
       "      <td>0</td>\n",
       "      <td>0</td>\n",
       "      <td>0</td>\n",
       "      <td>0</td>\n",
       "      <td>0</td>\n",
       "      <td>0</td>\n",
       "      <td>0</td>\n",
       "      <td>0</td>\n",
       "      <td>0</td>\n",
       "      <td>0</td>\n",
       "    </tr>\n",
       "    <tr>\n",
       "      <th>4</th>\n",
       "      <td>141000</td>\n",
       "      <td>2</td>\n",
       "      <td>9</td>\n",
       "      <td>1</td>\n",
       "      <td>0</td>\n",
       "      <td>1</td>\n",
       "      <td>0</td>\n",
       "      <td>0</td>\n",
       "      <td>0</td>\n",
       "      <td>0</td>\n",
       "      <td>...</td>\n",
       "      <td>0</td>\n",
       "      <td>0</td>\n",
       "      <td>0</td>\n",
       "      <td>0</td>\n",
       "      <td>0</td>\n",
       "      <td>0</td>\n",
       "      <td>0</td>\n",
       "      <td>0</td>\n",
       "      <td>0</td>\n",
       "      <td>0</td>\n",
       "    </tr>\n",
       "  </tbody>\n",
       "</table>\n",
       "<p>5 rows × 41 columns</p>\n",
       "</div>"
      ],
      "text/plain": [
       "   km_driven  owner  age  transmission_encoded  CNG  Diesel  Electric  LPG  \\\n",
       "0      70000      1   16                     1    0       0         0    0   \n",
       "1      50000      1   16                     1    0       0         0    0   \n",
       "2     100000      1   11                     1    0       1         0    0   \n",
       "3      46000      1    6                     1    0       0         0    0   \n",
       "4     141000      2    9                     1    0       1         0    0   \n",
       "\n",
       "   Petrol  Dealer  ...  Mercedes-Benz  Mitsubishi  Nissan  OpelCorsa  Renault  \\\n",
       "0       1       0  ...              0           0       0          0        0   \n",
       "1       1       0  ...              0           0       0          0        0   \n",
       "2       0       0  ...              0           0       0          0        0   \n",
       "3       1       0  ...              0           0       0          0        0   \n",
       "4       0       0  ...              0           0       0          0        0   \n",
       "\n",
       "   Skoda  Tata  Toyota  Volkswagen  Volvo  \n",
       "0      0     0       0           0      0  \n",
       "1      0     0       0           0      0  \n",
       "2      0     0       0           0      0  \n",
       "3      0     0       0           0      0  \n",
       "4      0     0       0           0      0  \n",
       "\n",
       "[5 rows x 41 columns]"
      ]
     },
     "execution_count": 66,
     "metadata": {},
     "output_type": "execute_result"
    }
   ],
   "source": [
    "x_col = ['km_driven', 'owner', 'age', 'transmission_encoded', 'CNG', 'Diesel',\n",
    "       'Electric', 'LPG', 'Petrol', 'Dealer', 'Individual', 'Trustmark Dealer',\n",
    "       'Ambassador', 'Audi', 'BMW', 'Chevrolet', 'Daewoo', 'Datsun',\n",
    "       'Fiat', 'Force', 'Ford', 'Honda', 'Hyundai', 'Isuzu', 'Jaguar', 'Jeep',\n",
    "       'Kia', 'Land', 'MG', 'Mahindra', 'Maruti', 'Mercedes-Benz',\n",
    "       'Mitsubishi', 'Nissan', 'OpelCorsa', 'Renault', 'Skoda', 'Tata',\n",
    "       'Toyota', 'Volkswagen', 'Volvo']\n",
    "X = df[x_col]\n",
    "X.head()"
   ]
  },
  {
   "cell_type": "code",
   "execution_count": 67,
   "id": "bea30d52",
   "metadata": {},
   "outputs": [
    {
     "data": {
      "text/html": [
       "<div>\n",
       "<style scoped>\n",
       "    .dataframe tbody tr th:only-of-type {\n",
       "        vertical-align: middle;\n",
       "    }\n",
       "\n",
       "    .dataframe tbody tr th {\n",
       "        vertical-align: top;\n",
       "    }\n",
       "\n",
       "    .dataframe thead th {\n",
       "        text-align: right;\n",
       "    }\n",
       "</style>\n",
       "<table border=\"1\" class=\"dataframe\">\n",
       "  <thead>\n",
       "    <tr style=\"text-align: right;\">\n",
       "      <th></th>\n",
       "      <th>selling_price</th>\n",
       "    </tr>\n",
       "  </thead>\n",
       "  <tbody>\n",
       "    <tr>\n",
       "      <th>0</th>\n",
       "      <td>60000</td>\n",
       "    </tr>\n",
       "    <tr>\n",
       "      <th>1</th>\n",
       "      <td>135000</td>\n",
       "    </tr>\n",
       "    <tr>\n",
       "      <th>2</th>\n",
       "      <td>600000</td>\n",
       "    </tr>\n",
       "    <tr>\n",
       "      <th>3</th>\n",
       "      <td>250000</td>\n",
       "    </tr>\n",
       "    <tr>\n",
       "      <th>4</th>\n",
       "      <td>450000</td>\n",
       "    </tr>\n",
       "  </tbody>\n",
       "</table>\n",
       "</div>"
      ],
      "text/plain": [
       "   selling_price\n",
       "0          60000\n",
       "1         135000\n",
       "2         600000\n",
       "3         250000\n",
       "4         450000"
      ]
     },
     "execution_count": 67,
     "metadata": {},
     "output_type": "execute_result"
    }
   ],
   "source": [
    "y = df.loc[:,['selling_price']]\n",
    "y.head()"
   ]
  },
  {
   "cell_type": "markdown",
   "id": "db425648",
   "metadata": {},
   "source": [
    "<a id=\"172\"></a> <br>\n",
    "### B. Split into training and testing dataset"
   ]
  },
  {
   "cell_type": "code",
   "execution_count": 68,
   "id": "d6b11e84",
   "metadata": {},
   "outputs": [],
   "source": [
    "# Use 20% of training data\n",
    "X_train, X_test, y_train, y_test = train_test_split(X, y, test_size=0.2, random_state=101)"
   ]
  },
  {
   "cell_type": "code",
   "execution_count": 69,
   "id": "bafa5018",
   "metadata": {},
   "outputs": [
    {
     "name": "stdout",
     "output_type": "stream",
     "text": [
      "(3472, 41)\n",
      "(868, 41)\n",
      "(3472, 1)\n",
      "(868, 1)\n"
     ]
    }
   ],
   "source": [
    "print(X_train.shape)\n",
    "print(X_test.shape)\n",
    "print(y_train.shape)\n",
    "print(y_test.shape)"
   ]
  },
  {
   "cell_type": "markdown",
   "id": "719abc85",
   "metadata": {},
   "source": [
    "<a id=\"173\"></a> <br>\n",
    "### C. Create and train the baseline model"
   ]
  },
  {
   "cell_type": "code",
   "execution_count": 70,
   "id": "2c494497",
   "metadata": {},
   "outputs": [],
   "source": [
    "lm = LinearRegression()"
   ]
  },
  {
   "cell_type": "code",
   "execution_count": 71,
   "id": "dbf51e15",
   "metadata": {},
   "outputs": [
    {
     "data": {
      "text/plain": [
       "LinearRegression()"
      ]
     },
     "execution_count": 71,
     "metadata": {},
     "output_type": "execute_result"
    }
   ],
   "source": [
    "lm.fit(X_train,y_train)"
   ]
  },
  {
   "cell_type": "markdown",
   "id": "1b1d346e",
   "metadata": {},
   "source": [
    "<a id=\"174\"></a> <br>\n",
    "### D. Model Evaluation"
   ]
  },
  {
   "cell_type": "code",
   "execution_count": 72,
   "id": "fd8fa641",
   "metadata": {},
   "outputs": [
    {
     "name": "stdout",
     "output_type": "stream",
     "text": [
      "[1656736.55710752]\n"
     ]
    }
   ],
   "source": [
    "# print the intercept\n",
    "print(lm.intercept_)"
   ]
  },
  {
   "cell_type": "code",
   "execution_count": 73,
   "id": "a75294c1",
   "metadata": {},
   "outputs": [
    {
     "data": {
      "text/html": [
       "<div>\n",
       "<style scoped>\n",
       "    .dataframe tbody tr th:only-of-type {\n",
       "        vertical-align: middle;\n",
       "    }\n",
       "\n",
       "    .dataframe tbody tr th {\n",
       "        vertical-align: top;\n",
       "    }\n",
       "\n",
       "    .dataframe thead th {\n",
       "        text-align: right;\n",
       "    }\n",
       "</style>\n",
       "<table border=\"1\" class=\"dataframe\">\n",
       "  <thead>\n",
       "    <tr style=\"text-align: right;\">\n",
       "      <th></th>\n",
       "      <th>Coefficient</th>\n",
       "    </tr>\n",
       "  </thead>\n",
       "  <tbody>\n",
       "    <tr>\n",
       "      <th>km_driven</th>\n",
       "      <td>-1.029884e+00</td>\n",
       "    </tr>\n",
       "    <tr>\n",
       "      <th>owner</th>\n",
       "      <td>-1.041074e+04</td>\n",
       "    </tr>\n",
       "    <tr>\n",
       "      <th>age</th>\n",
       "      <td>-4.111780e+04</td>\n",
       "    </tr>\n",
       "    <tr>\n",
       "      <th>transmission_encoded</th>\n",
       "      <td>-3.077937e+05</td>\n",
       "    </tr>\n",
       "    <tr>\n",
       "      <th>CNG</th>\n",
       "      <td>4.085997e+04</td>\n",
       "    </tr>\n",
       "    <tr>\n",
       "      <th>Diesel</th>\n",
       "      <td>2.226678e+05</td>\n",
       "    </tr>\n",
       "    <tr>\n",
       "      <th>Electric</th>\n",
       "      <td>-4.141799e+05</td>\n",
       "    </tr>\n",
       "    <tr>\n",
       "      <th>LPG</th>\n",
       "      <td>9.315487e+04</td>\n",
       "    </tr>\n",
       "    <tr>\n",
       "      <th>Petrol</th>\n",
       "      <td>5.749725e+04</td>\n",
       "    </tr>\n",
       "    <tr>\n",
       "      <th>Dealer</th>\n",
       "      <td>-8.062643e+04</td>\n",
       "    </tr>\n",
       "    <tr>\n",
       "      <th>Individual</th>\n",
       "      <td>-8.754396e+04</td>\n",
       "    </tr>\n",
       "    <tr>\n",
       "      <th>Trustmark Dealer</th>\n",
       "      <td>1.681704e+05</td>\n",
       "    </tr>\n",
       "    <tr>\n",
       "      <th>Ambassador</th>\n",
       "      <td>-5.028751e+05</td>\n",
       "    </tr>\n",
       "    <tr>\n",
       "      <th>Audi</th>\n",
       "      <td>6.900250e+05</td>\n",
       "    </tr>\n",
       "    <tr>\n",
       "      <th>BMW</th>\n",
       "      <td>1.387925e+06</td>\n",
       "    </tr>\n",
       "    <tr>\n",
       "      <th>Chevrolet</th>\n",
       "      <td>-6.415597e+05</td>\n",
       "    </tr>\n",
       "    <tr>\n",
       "      <th>Daewoo</th>\n",
       "      <td>-3.335175e+05</td>\n",
       "    </tr>\n",
       "    <tr>\n",
       "      <th>Datsun</th>\n",
       "      <td>-7.401365e+05</td>\n",
       "    </tr>\n",
       "    <tr>\n",
       "      <th>Fiat</th>\n",
       "      <td>-6.082392e+05</td>\n",
       "    </tr>\n",
       "    <tr>\n",
       "      <th>Force</th>\n",
       "      <td>1.513399e-09</td>\n",
       "    </tr>\n",
       "    <tr>\n",
       "      <th>Ford</th>\n",
       "      <td>-4.290199e+05</td>\n",
       "    </tr>\n",
       "    <tr>\n",
       "      <th>Honda</th>\n",
       "      <td>-4.354819e+05</td>\n",
       "    </tr>\n",
       "    <tr>\n",
       "      <th>Hyundai</th>\n",
       "      <td>-5.183481e+05</td>\n",
       "    </tr>\n",
       "    <tr>\n",
       "      <th>Isuzu</th>\n",
       "      <td>-2.328306e-10</td>\n",
       "    </tr>\n",
       "    <tr>\n",
       "      <th>Jaguar</th>\n",
       "      <td>6.930469e+05</td>\n",
       "    </tr>\n",
       "    <tr>\n",
       "      <th>Jeep</th>\n",
       "      <td>3.451531e+05</td>\n",
       "    </tr>\n",
       "    <tr>\n",
       "      <th>Kia</th>\n",
       "      <td>-3.066796e+05</td>\n",
       "    </tr>\n",
       "    <tr>\n",
       "      <th>Land</th>\n",
       "      <td>2.288083e+06</td>\n",
       "    </tr>\n",
       "    <tr>\n",
       "      <th>MG</th>\n",
       "      <td>4.715643e+05</td>\n",
       "    </tr>\n",
       "    <tr>\n",
       "      <th>Mahindra</th>\n",
       "      <td>-4.152574e+05</td>\n",
       "    </tr>\n",
       "    <tr>\n",
       "      <th>Maruti</th>\n",
       "      <td>-5.390818e+05</td>\n",
       "    </tr>\n",
       "    <tr>\n",
       "      <th>Mercedes-Benz</th>\n",
       "      <td>1.521404e+06</td>\n",
       "    </tr>\n",
       "    <tr>\n",
       "      <th>Mitsubishi</th>\n",
       "      <td>8.932377e+04</td>\n",
       "    </tr>\n",
       "    <tr>\n",
       "      <th>Nissan</th>\n",
       "      <td>-5.433080e+05</td>\n",
       "    </tr>\n",
       "    <tr>\n",
       "      <th>OpelCorsa</th>\n",
       "      <td>-2.825177e+05</td>\n",
       "    </tr>\n",
       "    <tr>\n",
       "      <th>Renault</th>\n",
       "      <td>-6.379557e+05</td>\n",
       "    </tr>\n",
       "    <tr>\n",
       "      <th>Skoda</th>\n",
       "      <td>-5.066937e+05</td>\n",
       "    </tr>\n",
       "    <tr>\n",
       "      <th>Tata</th>\n",
       "      <td>-6.166571e+05</td>\n",
       "    </tr>\n",
       "    <tr>\n",
       "      <th>Toyota</th>\n",
       "      <td>-6.825342e+04</td>\n",
       "    </tr>\n",
       "    <tr>\n",
       "      <th>Volkswagen</th>\n",
       "      <td>-5.454931e+05</td>\n",
       "    </tr>\n",
       "    <tr>\n",
       "      <th>Volvo</th>\n",
       "      <td>1.184550e+06</td>\n",
       "    </tr>\n",
       "  </tbody>\n",
       "</table>\n",
       "</div>"
      ],
      "text/plain": [
       "                       Coefficient\n",
       "km_driven            -1.029884e+00\n",
       "owner                -1.041074e+04\n",
       "age                  -4.111780e+04\n",
       "transmission_encoded -3.077937e+05\n",
       "CNG                   4.085997e+04\n",
       "Diesel                2.226678e+05\n",
       "Electric             -4.141799e+05\n",
       "LPG                   9.315487e+04\n",
       "Petrol                5.749725e+04\n",
       "Dealer               -8.062643e+04\n",
       "Individual           -8.754396e+04\n",
       "Trustmark Dealer      1.681704e+05\n",
       "Ambassador           -5.028751e+05\n",
       "Audi                  6.900250e+05\n",
       "BMW                   1.387925e+06\n",
       "Chevrolet            -6.415597e+05\n",
       "Daewoo               -3.335175e+05\n",
       "Datsun               -7.401365e+05\n",
       "Fiat                 -6.082392e+05\n",
       "Force                 1.513399e-09\n",
       "Ford                 -4.290199e+05\n",
       "Honda                -4.354819e+05\n",
       "Hyundai              -5.183481e+05\n",
       "Isuzu                -2.328306e-10\n",
       "Jaguar                6.930469e+05\n",
       "Jeep                  3.451531e+05\n",
       "Kia                  -3.066796e+05\n",
       "Land                  2.288083e+06\n",
       "MG                    4.715643e+05\n",
       "Mahindra             -4.152574e+05\n",
       "Maruti               -5.390818e+05\n",
       "Mercedes-Benz         1.521404e+06\n",
       "Mitsubishi            8.932377e+04\n",
       "Nissan               -5.433080e+05\n",
       "OpelCorsa            -2.825177e+05\n",
       "Renault              -6.379557e+05\n",
       "Skoda                -5.066937e+05\n",
       "Tata                 -6.166571e+05\n",
       "Toyota               -6.825342e+04\n",
       "Volkswagen           -5.454931e+05\n",
       "Volvo                 1.184550e+06"
      ]
     },
     "execution_count": 73,
     "metadata": {},
     "output_type": "execute_result"
    }
   ],
   "source": [
    "coeff_df = pd.DataFrame(lm.coef_.reshape((41,)), X.columns, columns=['Coefficient']) #all columns name is index\n",
    "coeff_df"
   ]
  },
  {
   "cell_type": "markdown",
   "id": "44109701",
   "metadata": {},
   "source": [
    "Interpreting the coefficients: (For KM Driven, Car Age and Transmission)\n",
    "\n",
    "- Holding all other features fixed, a 1 unit increase in **KM Driven** is associated with an **decrease of \\$1.03 ** in car price.\n",
    "- Holding all other features fixed, a 1 unit increase in **Age** is associated with an **decrease of \\$0.0001 ** in car price.\n",
    "- Holding all other features fixed, **Transmission (Manual)** is associated with an **decrease of \\$0.00003 ** in car price.\n",
    "\n",
    "Since the model with 41 variables and each of them has very small coefficient values, it suggests that the impact of those variables on the target variable is relatively small compared to other variables or factors in the model."
   ]
  },
  {
   "cell_type": "code",
   "execution_count": 74,
   "id": "07688637",
   "metadata": {},
   "outputs": [],
   "source": [
    "y_hat = lm.predict(X_test)"
   ]
  },
  {
   "cell_type": "code",
   "execution_count": 75,
   "id": "34cf7c5d",
   "metadata": {},
   "outputs": [],
   "source": [
    "y_test = np.ravel(y_test)\n",
    "y_hat = np.ravel(y_hat)"
   ]
  },
  {
   "cell_type": "code",
   "execution_count": 76,
   "id": "9a5e30da",
   "metadata": {},
   "outputs": [
    {
     "name": "stdout",
     "output_type": "stream",
     "text": [
      "MAE: 173467.67367025663\n",
      "MSE: 83955083253.38564\n",
      "RMSE: 289750.0358125701\n",
      "R2 score: 0.7142054152809166\n"
     ]
    }
   ],
   "source": [
    "print('MAE:', metrics.mean_absolute_error(y_test, y_hat))\n",
    "print('MSE:', metrics.mean_squared_error(y_test, y_hat))\n",
    "print('RMSE:', np.sqrt(metrics.mean_squared_error(y_test, y_hat)))\n",
    "print(\"R2 score:\", r2_score(y_test, y_hat))"
   ]
  },
  {
   "cell_type": "markdown",
   "id": "c895bdee",
   "metadata": {},
   "source": [
    "<a id=\"175\"></a> <br>\n",
    "### E. Joint plot and residual plot for numeric variables"
   ]
  },
  {
   "cell_type": "code",
   "execution_count": 77,
   "id": "94e6db24",
   "metadata": {},
   "outputs": [
    {
     "data": {
      "text/plain": [
       "<seaborn.axisgrid.JointGrid at 0x7fe25839c370>"
      ]
     },
     "execution_count": 77,
     "metadata": {},
     "output_type": "execute_result"
    },
    {
     "data": {
      "image/png": "[encoded data removed]",
      "text/plain": [
       "<Figure size 432x432 with 3 Axes>"
      ]
     },
     "metadata": {
      "needs_background": "light"
     },
     "output_type": "display_data"
    }
   ],
   "source": [
    "sns.jointplot(y_test,y_hat,kind='scatter')"
   ]
  },
  {
   "cell_type": "markdown",
   "id": "100d1559",
   "metadata": {},
   "source": [
    "The joint plot can be used to examine the residuals, which are the differences between the predicted and actual values. By visualizing the relationship between the residuals and the predicted values, we can identify any patterns or systematic errors in the model's predictions.\n",
    "\n",
    "Above pair plot between actual and predicted values shows a pattern that resembles a logarithmic distribution, it suggests that the relationship between the two variables is nonlinear and may benefit from a logarithmic transformation."
   ]
  },
  {
   "cell_type": "code",
   "execution_count": 78,
   "id": "5e7db4db",
   "metadata": {},
   "outputs": [],
   "source": [
    "# Calculate the residuals\n",
    "residuals = y_test - y_hat\n",
    "\n",
    "x_km = np.ravel(X_test.iloc[:,0])\n",
    "x_age = np.ravel(X_test.iloc[:,2])"
   ]
  },
  {
   "cell_type": "code",
   "execution_count": 79,
   "id": "99c07849",
   "metadata": {},
   "outputs": [
    {
     "data": {
      "image/png": "[encoded data removed]",
      "text/plain": [
       "<Figure size 864x432 with 2 Axes>"
      ]
     },
     "metadata": {
      "needs_background": "light"
     },
     "output_type": "display_data"
    }
   ],
   "source": [
    "plt.figure(figsize=(12, 6))\n",
    "\n",
    "# Subplot 1: Residual plot for KM Driven\n",
    "plt.subplot(1, 2, 1)\n",
    "sns.residplot(x_km, residuals, color='blue')\n",
    "plt.xlabel('KM Driven')\n",
    "plt.ylabel('Residuals')\n",
    "plt.title('Residual Plot - KM Driven')\n",
    "\n",
    "# Subplot 2: Residual plot for car age\n",
    "plt.subplot(1, 2, 2)\n",
    "sns.residplot(x_age, residuals, color='green')\n",
    "plt.xlabel('Car Age')\n",
    "plt.ylabel('Residuals')\n",
    "plt.title('Residual Plot - Car Age')\n",
    "\n",
    "plt.tight_layout()\n",
    "plt.show()"
   ]
  },
  {
   "cell_type": "markdown",
   "id": "385fa740",
   "metadata": {},
   "source": [
    "The residual plots also show the presence of heteroscedasticity, as the residuals exhibit a “cone” shape – they’re not distributed with equal variance throughout the plot. Therefore, we consider to improve the model by transforming to log of selling price."
   ]
  },
  {
   "cell_type": "markdown",
   "id": "be158a8e",
   "metadata": {},
   "source": [
    "<a id=\"18\"></a> <br>\n",
    "## 8. Improved model: Log transformation"
   ]
  },
  {
   "cell_type": "markdown",
   "id": "edce81d6",
   "metadata": {},
   "source": [
    "<a id=\"181\"></a> <br>\n",
    "### A. Q-Q plots after log transformation"
   ]
  },
  {
   "cell_type": "code",
   "execution_count": 80,
   "id": "6b174350",
   "metadata": {},
   "outputs": [],
   "source": [
    "# apply a logarithmic transformation to selling price\n",
    "log_selling_price = np.log(df['selling_price'])"
   ]
  },
  {
   "cell_type": "code",
   "execution_count": 81,
   "id": "da0aff7a",
   "metadata": {},
   "outputs": [
    {
     "data": {
      "text/plain": [
       "0       11.002100\n",
       "1       11.813030\n",
       "2       13.304685\n",
       "3       12.429216\n",
       "4       13.017003\n",
       "          ...    \n",
       "4335    12.923910\n",
       "4336    12.923910\n",
       "4337    11.608236\n",
       "4338    13.670485\n",
       "4339    12.323856\n",
       "Name: selling_price, Length: 4340, dtype: float64"
      ]
     },
     "execution_count": 81,
     "metadata": {},
     "output_type": "execute_result"
    }
   ],
   "source": [
    "log_selling_price"
   ]
  },
  {
   "cell_type": "code",
   "execution_count": 82,
   "id": "c8d8b147",
   "metadata": {},
   "outputs": [
    {
     "data": {
      "image/png": "[encoded data removed]",
      "text/plain": [
       "<Figure size 720x288 with 2 Axes>"
      ]
     },
     "metadata": {
      "needs_background": "light"
     },
     "output_type": "display_data"
    }
   ],
   "source": [
    "fig, axes = plt.subplots(nrows=1, ncols=2, figsize=(10, 4))\n",
    "\n",
    "# Q-Q plot\n",
    "ax1 = axes[0]\n",
    "stats.probplot(log_selling_price, dist='norm', plot=ax1)\n",
    "ax1.set_title('Q-Q Plot')\n",
    "\n",
    "# Histogram\n",
    "ax2 = axes[1]\n",
    "log_selling_price.hist(ax=ax2)\n",
    "ax2.set_title('Histogram')\n",
    "\n",
    "plt.tight_layout()\n",
    "plt.show()"
   ]
  },
  {
   "cell_type": "markdown",
   "id": "77e38152",
   "metadata": {},
   "source": [
    "It's clearly that log(selling_price) follows a normal\n",
    "distribution in when compared to selling_price. From the plots, we could consider log(selling_price) as the response variable in stead of selling_price in regression model."
   ]
  },
  {
   "cell_type": "markdown",
   "id": "05a8735e",
   "metadata": {},
   "source": [
    "<a id=\"182\"></a> <br>\n",
    "### B. Split into training and testing dataset using transformed variables"
   ]
  },
  {
   "cell_type": "code",
   "execution_count": 83,
   "id": "cbb44c62",
   "metadata": {},
   "outputs": [],
   "source": [
    "# Use 20% of training data\n",
    "X_train_log, X_test_log, y_train_log, y_test_log = train_test_split(X, log_selling_price, test_size=0.2, random_state=101)"
   ]
  },
  {
   "cell_type": "code",
   "execution_count": 84,
   "id": "342f7632",
   "metadata": {},
   "outputs": [
    {
     "name": "stdout",
     "output_type": "stream",
     "text": [
      "(3472, 41)\n",
      "(868, 41)\n",
      "(3472,)\n",
      "(868,)\n"
     ]
    }
   ],
   "source": [
    "print(X_train_log.shape)\n",
    "print(X_test_log.shape)\n",
    "print(y_train_log.shape)\n",
    "print(y_test_log.shape)"
   ]
  },
  {
   "cell_type": "markdown",
   "id": "494abae3",
   "metadata": {},
   "source": [
    "<a id=\"183\"></a> <br>\n",
    "### C. Create and train the improved model"
   ]
  },
  {
   "cell_type": "code",
   "execution_count": 85,
   "id": "df85ca53",
   "metadata": {},
   "outputs": [],
   "source": [
    "lm_log = LinearRegression()"
   ]
  },
  {
   "cell_type": "code",
   "execution_count": 86,
   "id": "a3a12920",
   "metadata": {},
   "outputs": [
    {
     "data": {
      "text/plain": [
       "LinearRegression()"
      ]
     },
     "execution_count": 86,
     "metadata": {},
     "output_type": "execute_result"
    }
   ],
   "source": [
    "lm_log.fit(X_train_log,y_train_log)"
   ]
  },
  {
   "cell_type": "markdown",
   "id": "5b69e3c8",
   "metadata": {},
   "source": [
    "<a id=\"184\"></a> <br>\n",
    "### D. Model Evaluation"
   ]
  },
  {
   "cell_type": "code",
   "execution_count": 87,
   "id": "7e29783c",
   "metadata": {},
   "outputs": [],
   "source": [
    "y_hat_log = lm_log.predict(X_test_log)"
   ]
  },
  {
   "cell_type": "code",
   "execution_count": 88,
   "id": "7faa2d83",
   "metadata": {},
   "outputs": [
    {
     "name": "stdout",
     "output_type": "stream",
     "text": [
      "MAE: 0.2976789337180137\n",
      "MSE: 0.14328504605848516\n",
      "RMSE: 0.378530112485764\n",
      "R2 score: 0.8002384683678572\n"
     ]
    }
   ],
   "source": [
    "print('MAE:', metrics.mean_absolute_error(y_test_log, y_hat_log))\n",
    "print('MSE:', metrics.mean_squared_error(y_test_log, y_hat_log))\n",
    "print('RMSE:', np.sqrt(metrics.mean_squared_error(y_test_log, y_hat_log)))\n",
    "print(\"R2 score:\", r2_score(y_test_log, y_hat_log))"
   ]
  },
  {
   "cell_type": "markdown",
   "id": "3cb54812",
   "metadata": {},
   "source": [
    "Compared the result with the baseline model in section 7, both MAE, MSE and RSME have significantly decrease.\n",
    "R2 score also increase from 0.71 to 0.80. The performance of the model has been improved significantly."
   ]
  },
  {
   "cell_type": "markdown",
   "id": "9aa1082d",
   "metadata": {},
   "source": [
    "<a id=\"185\"></a> <br>\n",
    "### E. Joint plot and residual plot for numeric variables"
   ]
  },
  {
   "cell_type": "code",
   "execution_count": 89,
   "id": "87e3cebf",
   "metadata": {},
   "outputs": [
    {
     "data": {
      "text/plain": [
       "<seaborn.axisgrid.JointGrid at 0x7fe25852c7c0>"
      ]
     },
     "execution_count": 89,
     "metadata": {},
     "output_type": "execute_result"
    },
    {
     "data": {
      "image/png": "[encoded data removed]",
      "text/plain": [
       "<Figure size 432x432 with 3 Axes>"
      ]
     },
     "metadata": {
      "needs_background": "light"
     },
     "output_type": "display_data"
    }
   ],
   "source": [
    "sns.jointplot(y_test_log,y_hat_log,kind='scatter')"
   ]
  },
  {
   "cell_type": "markdown",
   "id": "5fb108a1",
   "metadata": {},
   "source": [
    "The joint plot now looks a straight line and both actual selling price and predicted selling price follow normal distribution."
   ]
  },
  {
   "cell_type": "code",
   "execution_count": 90,
   "id": "144cdbc4",
   "metadata": {},
   "outputs": [],
   "source": [
    "# Calculate the residuals\n",
    "residuals_log = y_test_log - y_hat_log\n",
    "\n",
    "x_km_log = np.ravel(X_test.iloc[:,0])\n",
    "x_age_log = np.ravel(X_test.iloc[:,2])"
   ]
  },
  {
   "cell_type": "code",
   "execution_count": 91,
   "id": "7e74c3d8",
   "metadata": {},
   "outputs": [
    {
     "data": {
      "image/png": "[encoded data removed]",
      "text/plain": [
       "<Figure size 864x432 with 2 Axes>"
      ]
     },
     "metadata": {
      "needs_background": "light"
     },
     "output_type": "display_data"
    }
   ],
   "source": [
    "plt.figure(figsize=(12, 6))\n",
    "\n",
    "# Subplot 1: Residual plot for KM Driven\n",
    "plt.subplot(1, 2, 1)\n",
    "sns.residplot(x_km_log, residuals_log, color='blue')\n",
    "plt.xlabel('KM Driven')\n",
    "plt.ylabel('Residuals')\n",
    "plt.title('Residual Plot - KM Driven')\n",
    "\n",
    "# Subplot 2: Residual plot for car age\n",
    "plt.subplot(1, 2, 2)\n",
    "sns.residplot(x_age_log, residuals_log, color='green')\n",
    "plt.xlabel('Car Age')\n",
    "plt.ylabel('Residuals')\n",
    "plt.title('Residual Plot - Car Age')\n",
    "\n",
    "plt.tight_layout()\n",
    "plt.show()"
   ]
  },
  {
   "cell_type": "markdown",
   "id": "21c25b28",
   "metadata": {},
   "source": [
    "Residual plots suggest that the heteroscedastic effect has significantly reduced as the shape no longer shows any distinctive pattern."
   ]
  },
  {
   "cell_type": "markdown",
   "id": "bd43422c",
   "metadata": {},
   "source": [
    "<a id=\"19\"></a> <br>\n",
    "## 9. Conclusion and potential further improvements"
   ]
  },
  {
   "cell_type": "markdown",
   "id": "ea8b9ab0",
   "metadata": {},
   "source": [
    "In this dataset, **log-linear relationship** exists between the selling price and explantory variables. Therefore it's suggested to transform the response variable before working on the regression model. Also we can use Q-Q plot and residual plot to identify non-linear relationship from data pattern.\n",
    "\n",
    "Here're some suggestion to further improve the regression model:\n",
    "- Use stepwise regression to eliminate independent variables that is not statistical significant\n",
    "- Use PCA to reduce number of explantory variables\n",
    "- Consider Ridge or Lasso Regression Variant to address the issues of multicollinearity and overfitting\n",
    "- Consider machine learning technique like GridSearchCV and RepeatedKFold CrossValidation"
   ]
  },
  {
   "cell_type": "code",
   "execution_count": null,
   "id": "186263a4",
   "metadata": {},
   "outputs": [],
   "source": []
  }
 ],
 "metadata": {
  "kernelspec": {
   "display_name": "Python 3 (ipykernel)",
   "language": "python",
   "name": "python3"
  },
  "language_info": {
   "codemirror_mode": {
    "name": "ipython",
    "version": 3
   },
   "file_extension": ".py",
   "mimetype": "text/x-python",
   "name": "python",
   "nbconvert_exporter": "python",
   "pygments_lexer": "ipython3",
   "version": "3.9.12"
  }
 },
 "nbformat": 4,
 "nbformat_minor": 5
}
